{
 "cells": [
  {
   "cell_type": "code",
   "execution_count": 2,
   "metadata": {},
   "outputs": [
    {
     "name": "stdout",
     "output_type": "stream",
     "text": [
      "Initial Installation complete\n"
     ]
    }
   ],
   "source": [
    "#importing all the dependencies and libraries\n",
    "\n",
    "import pandas as pd\n",
    "import pyttsx3\n",
    "from sklearn import preprocessing\n",
    "from sklearn.tree import DecisionTreeClassifier,_tree\n",
    "import numpy as np\n",
    "from sklearn.model_selection import train_test_split\n",
    "from sklearn.model_selection import cross_val_score\n",
    "from sklearn.svm import SVC\n",
    "import csv\n",
    "import warnings\n",
    "warnings.filterwarnings(\"ignore\", category=DeprecationWarning)\n",
    "print(\"Initial Installation complete\")"
   ]
  },
  {
   "cell_type": "code",
   "execution_count": 3,
   "metadata": {},
   "outputs": [
    {
     "data": {
      "text/plain": [
       "0    Fungal infection\n",
       "1    Fungal infection\n",
       "2    Fungal infection\n",
       "3    Fungal infection\n",
       "4    Fungal infection\n",
       "Name: prognosis, dtype: object"
      ]
     },
     "execution_count": 3,
     "metadata": {},
     "output_type": "execute_result"
    }
   ],
   "source": [
    "training = pd.read_csv('C://Users//DELL//Downloads//healthcare-chatbot-master//healthcare-chatbot-master//Training.csv')\n",
    "testing= pd.read_csv('C://Users//DELL//Downloads//healthcare-chatbot-master//healthcare-chatbot-master//Testing.csv')\n",
    "cols= training.columns\n",
    "cols= cols[:-1]\n",
    "x = training[cols]\n",
    "y = training['prognosis']\n",
    "y1 = y\n",
    "y1.head()"
   ]
  },
  {
   "cell_type": "code",
   "execution_count": 4,
   "metadata": {},
   "outputs": [
    {
     "data": {
      "text/plain": [
       "array([15, 15, 15, ..., 38, 35, 27])"
      ]
     },
     "execution_count": 4,
     "metadata": {},
     "output_type": "execute_result"
    }
   ],
   "source": [
    "reduced_data = training.groupby(training['prognosis']).max()\n",
    "\n",
    "#mapping strings to numbers\n",
    "le = preprocessing.LabelEncoder()\n",
    "le.fit(y)\n",
    "y = le.transform(y)\n",
    "y"
   ]
  },
  {
   "cell_type": "markdown",
   "metadata": {},
   "source": [
    "#### x_train, x_test, y_train, y_test = train_test_split(x, y, test_size=0.33, random_state=42)\n",
    "testx    = testing[cols]\n",
    "testy    = testing['prognosis']\n",
    "testy    = le.transform(testy)\n",
    "\n"
   ]
  },
  {
   "cell_type": "code",
   "execution_count": 6,
   "metadata": {},
   "outputs": [
    {
     "name": "stdout",
     "output_type": "stream",
     "text": [
      "0.9766036200103221\n"
     ]
    }
   ],
   "source": [
    "clf1  = DecisionTreeClassifier()\n",
    "clf = clf1.fit(x_train,y_train)\n",
    "# print(clf.score(x_train,y_train))\n",
    "# print (\"cross result========\")\n",
    "scores = cross_val_score(clf, x_test, y_test, cv=3)\n",
    "# print (scores)\n",
    "print (scores.mean())"
   ]
  },
  {
   "cell_type": "code",
   "execution_count": 7,
   "metadata": {},
   "outputs": [
    {
     "name": "stdout",
     "output_type": "stream",
     "text": [
      "for svm: \n",
      "1.0\n"
     ]
    }
   ],
   "source": [
    "model=SVC()\n",
    "model.fit(x_train,y_train)\n",
    "print(\"for svm: \")\n",
    "print(model.score(x_test,y_test))\n",
    "\n",
    "importances = clf.feature_importances_\n",
    "indices = np.argsort(importances)[::-1]\n",
    "features = cols"
   ]
  },
  {
   "cell_type": "code",
   "execution_count": 8,
   "metadata": {},
   "outputs": [],
   "source": [
    "def readn(nstr):\n",
    "    engine = pyttsx3.init()\n",
    "\n",
    "    engine.setProperty('voice', \"english+f5\")\n",
    "    engine.setProperty('rate', 130)\n",
    "\n",
    "    engine.say(nstr)\n",
    "    engine.runAndWait()\n",
    "    engine.stop()\n"
   ]
  },
  {
   "cell_type": "code",
   "execution_count": 9,
   "metadata": {},
   "outputs": [],
   "source": [
    "severityDictionary=dict()\n",
    "description_list = dict()\n",
    "precautionDictionary=dict()\n",
    "\n",
    "symptoms_dict = {}\n"
   ]
  },
  {
   "cell_type": "code",
   "execution_count": 10,
   "metadata": {},
   "outputs": [],
   "source": [
    "for index, symptom in enumerate(x):\n",
    "       symptoms_dict[symptom] = index\n",
    "def calc_condition(exp,days):\n",
    "    sum=0\n",
    "    for item in exp:\n",
    "         sum=sum+severityDictionary[item]\n",
    "    if((sum*days)/(len(exp)+1)>13):\n",
    "        print(\"You should take the consultation from doctor. \")\n",
    "    else:\n",
    "        print(\"It might not be that bad but you should take precautions.\")\n"
   ]
  },
  {
   "cell_type": "code",
   "execution_count": 11,
   "metadata": {},
   "outputs": [],
   "source": [
    "def getDescription():\n",
    "    global description_list\n",
    "    with open('symptom_Description.csv') as csv_file:\n",
    "        csv_reader = csv.reader(csv_file, delimiter=',')\n",
    "        line_count = 0\n",
    "        for row in csv_reader:\n",
    "            _description={row[0]:row[1]}\n",
    "            description_list.update(_description)\n",
    "\n",
    "\n",
    "\n",
    "\n",
    "def getSeverityDict():\n",
    "    global severityDictionary\n",
    "    with open('symptom_severity.csv') as csv_file:\n",
    "\n",
    "        csv_reader = csv.reader(csv_file, delimiter=',')\n",
    "        line_count = 0\n",
    "        try:\n",
    "            for row in csv_reader:\n",
    "                _diction={row[0]:int(row[1])}\n",
    "                severityDictionary.update(_diction)\n",
    "        except:\n",
    "            pass\n",
    "\n",
    "\n",
    "def getprecautionDict():\n",
    "    global precautionDictionary\n",
    "    with open('symptom_precaution.csv') as csv_file:\n",
    "\n",
    "        csv_reader = csv.reader(csv_file, delimiter=',')\n",
    "        line_count = 0\n",
    "        for row in csv_reader:\n",
    "            _prec={row[0]:[row[1],row[2],row[3],row[4]]}\n",
    "            precautionDictionary.update(_prec)\n",
    "\n",
    "\n",
    "def getInfo():\n",
    "    # name=input(\"Name:\")\n",
    "    print(\"Your Name \\n\\t\\t\\t\\t\\t\\t\",end=\"->\")\n",
    "    name=input(\"\")\n",
    "    print(\"hello \",name)\n",
    "\n",
    "def check_pattern(dis_list,inp):\n",
    "    import re\n",
    "    pred_list=[]\n",
    "    ptr=0\n",
    "    patt = \"^\" + inp + \"$\"\n",
    "    regexp = re.compile(inp)\n",
    "    for item in dis_list:\n",
    "\n",
    "        # print(f\"comparing {inp} to {item}\")\n",
    "        if regexp.search(item):\n",
    "            pred_list.append(item)\n",
    "            # return 1,item\n",
    "    if(len(pred_list)>0):\n",
    "        return 1,pred_list\n",
    "    else:\n",
    "        return ptr,item\n"
   ]
  },
  {
   "cell_type": "code",
   "execution_count": null,
   "metadata": {},
   "outputs": [
    {
     "name": "stdout",
     "output_type": "stream",
     "text": [
      "Your Name \n",
      "\t\t\t\t\t\t->Dodo\n",
      "hello  Dodo\n",
      "Enter the symptom you are experiencing  \n",
      "\t\t\t\t\t\t->I can't stop laughing\n",
      "Enter valid symptom.\n",
      "Enter the symptom you are experiencing  \n",
      "\t\t\t\t\t\t->Your mom is gay\n",
      "Enter valid symptom.\n",
      "Enter the symptom you are experiencing  \n",
      "\t\t\t\t\t\t->"
     ]
    }
   ],
   "source": [
    "def sec_predict(symptoms_exp):\n",
    "    df = pd.read_csv('Training.csv')\n",
    "    X = df.iloc[:, :-1]\n",
    "    y = df['prognosis']\n",
    "    X_train, X_test, y_train, y_test = train_test_split(X, y, test_size=0.3, random_state=20)\n",
    "    rf_clf = DecisionTreeClassifier()\n",
    "    rf_clf.fit(X_train, y_train)\n",
    "\n",
    "    symptoms_dict = {}\n",
    "\n",
    "    for index, symptom in enumerate(X):\n",
    "        symptoms_dict[symptom] = index\n",
    "\n",
    "    input_vector = np.zeros(len(symptoms_dict))\n",
    "    for item in symptoms_exp:\n",
    "      input_vector[[symptoms_dict[item]]] = 1\n",
    "\n",
    "\n",
    "    return rf_clf.predict([input_vector])\n",
    "\n",
    "\n",
    "def print_disease(node):\n",
    "    #print(node)\n",
    "    node = node[0]\n",
    "    #print(len(node))\n",
    "    val  = node.nonzero() \n",
    "    # print(val)\n",
    "    disease = le.inverse_transform(val[0])\n",
    "    return disease\n",
    "def tree_to_code(tree, feature_names):\n",
    "    tree_ = tree.tree_\n",
    "    # print(tree_)\n",
    "    feature_name = [\n",
    "        feature_names[i] if i != _tree.TREE_UNDEFINED else \"undefined!\"\n",
    "        for i in tree_.feature\n",
    "    ]\n",
    "\n",
    "    chk_dis=\",\".join(feature_names).split(\",\")\n",
    "    symptoms_present = []\n",
    "\n",
    "\n",
    "    # conf_inp=int()\n",
    "    while True:\n",
    "\n",
    "        print(\"Enter the symptom you are experiencing  \\n\\t\\t\\t\\t\\t\\t\",end=\"->\")\n",
    "        disease_input = input(\"\")\n",
    "        conf,cnf_dis=check_pattern(chk_dis,disease_input)\n",
    "        if conf==1:\n",
    "            print(\"searches related to input: \")\n",
    "            for num,it in enumerate(cnf_dis):\n",
    "                print(num,\")\",it)\n",
    "            if num!=0:\n",
    "                print(f\"Select the one you meant (0 - {num}):  \", end=\"\")\n",
    "                conf_inp = int(input(\"\"))\n",
    "            else:\n",
    "                conf_inp=0\n",
    "\n",
    "            disease_input=cnf_dis[conf_inp]\n",
    "            break\n",
    "            # print(\"Did you mean: \",cnf_dis,\"?(yes/no) :\",end=\"\")\n",
    "            # conf_inp = input(\"\")\n",
    "            # if(conf_inp==\"yes\"):\n",
    "            #     break\n",
    "        else:\n",
    "            print(\"Enter valid symptom.\")\n",
    "\n",
    "    while True:\n",
    "        try:\n",
    "            num_days=int(input(\"Okay. From how many days ? : \"))\n",
    "            break\n",
    "        except:\n",
    "            print(\"Enter number of days.\")\n",
    "    def recurse(node, depth):\n",
    "        indent = \"  \" * depth\n",
    "        if tree_.feature[node] != _tree.TREE_UNDEFINED:\n",
    "            name = feature_name[node]\n",
    "            threshold = tree_.threshold[node]\n",
    "\n",
    "            if name == disease_input:\n",
    "                val = 1\n",
    "            else:\n",
    "                val = 0\n",
    "            if  val <= threshold:\n",
    "                recurse(tree_.children_left[node], depth + 1)\n",
    "            else:\n",
    "                symptoms_present.append(name)\n",
    "                recurse(tree_.children_right[node], depth + 1)\n",
    "        else:\n",
    "            present_disease = print_disease(tree_.value[node])\n",
    "             # print( \"You may have \" +  present_disease )\n",
    "            red_cols = reduced_data.columns \n",
    "            symptoms_given = red_cols[reduced_data.loc[present_disease].values[0].nonzero()]\n",
    "            dis_list=list(symptoms_present)\n",
    "            if len(dis_list)!=0:\n",
    "                print(\"symptoms present  \" + str(list(symptoms_present))) \n",
    "                print(\"symptoms given \"  +  str(list(symptoms_given)))\n",
    "                \n",
    "            print(\"Are you experiencing any \")\n",
    "            symptoms_exp=[]\n",
    "            for syms in list(symptoms_given):\n",
    "                inp=\"\"\n",
    "                print(syms,\"? : \",end='')\n",
    "                while True:\n",
    "                    inp=input(\"\")\n",
    "                    if(inp==\"yes\" or inp==\"no\"):\n",
    "                        break\n",
    "                    else:\n",
    "                        print(\"provide proper answers i.e. (yes/no) : \",end=\"\")\n",
    "                if(inp==\"yes\"):\n",
    "                    symptoms_exp.append(syms)\n",
    "\n",
    "            second_prediction=sec_predict(symptoms_exp)\n",
    "            # print(second_prediction)\n",
    "            calc_condition(symptoms_exp,num_days)\n",
    "            if(present_disease[0]==second_prediction[0]):\n",
    "                print(\"You may have \", present_disease[0])\n",
    "\n",
    "                print(description_list[present_disease[0]])\n",
    "\n",
    "                # readn(f\"You may have {present_disease[0]}\")\n",
    "                # readn(f\"{description_list[present_disease[0]]}\")\n",
    "\n",
    "            else:\n",
    "                print(\"You may have \", present_disease[0], \"or \", second_prediction[0])\n",
    "                print(description_list[present_disease[0]])\n",
    "                print(description_list[second_prediction[0]])\n",
    "\n",
    "            # print(description_list[present_disease[0]])\n",
    "            precution_list=precautionDictionary[present_disease[0]]\n",
    "            print(\"Take following measures : \")\n",
    "            for  i,j in enumerate(precution_list):\n",
    "                \n",
    "                print(i+1,\")\",j)\n",
    "\n",
    "            # confidence_level = (1.0*len(symptoms_present))/len(symptoms_given)\n",
    "            # print(\"confidence level is \" + str(confidence_level))\n",
    "\n",
    "    recurse(0, 1)\n",
    "getSeverityDict()\n",
    "getDescription()\n",
    "getprecautionDict()\n",
    "getInfo()\n",
    "tree_to_code(clf,cols)\n",
    "\n"
   ]
  },
  {
   "cell_type": "code",
   "execution_count": null,
   "metadata": {},
   "outputs": [],
   "source": []
  },
  {
   "cell_type": "code",
   "execution_count": null,
   "metadata": {},
   "outputs": [],
   "source": []
  },
  {
   "cell_type": "code",
   "execution_count": null,
   "metadata": {},
   "outputs": [],
   "source": []
  },
  {
   "cell_type": "code",
   "execution_count": null,
   "metadata": {},
   "outputs": [],
   "source": []
  },
  {
   "cell_type": "code",
   "execution_count": null,
   "metadata": {},
   "outputs": [],
   "source": []
  },
  {
   "cell_type": "code",
   "execution_count": null,
   "metadata": {},
   "outputs": [],
   "source": []
  },
  {
   "cell_type": "code",
   "execution_count": null,
   "metadata": {},
   "outputs": [],
   "source": []
  },
  {
   "cell_type": "code",
   "execution_count": null,
   "metadata": {},
   "outputs": [],
   "source": []
  },
  {
   "cell_type": "code",
   "execution_count": null,
   "metadata": {},
   "outputs": [],
   "source": []
  },
  {
   "cell_type": "code",
   "execution_count": null,
   "metadata": {},
   "outputs": [],
   "source": []
  },
  {
   "cell_type": "code",
   "execution_count": null,
   "metadata": {},
   "outputs": [],
   "source": []
  },
  {
   "cell_type": "code",
   "execution_count": null,
   "metadata": {},
   "outputs": [],
   "source": []
  },
  {
   "cell_type": "code",
   "execution_count": null,
   "metadata": {},
   "outputs": [],
   "source": []
  },
  {
   "cell_type": "code",
   "execution_count": null,
   "metadata": {},
   "outputs": [],
   "source": []
  },
  {
   "cell_type": "code",
   "execution_count": null,
   "metadata": {},
   "outputs": [],
   "source": []
  },
  {
   "cell_type": "code",
   "execution_count": null,
   "metadata": {},
   "outputs": [],
   "source": []
  },
  {
   "cell_type": "code",
   "execution_count": null,
   "metadata": {},
   "outputs": [],
   "source": []
  },
  {
   "cell_type": "code",
   "execution_count": null,
   "metadata": {},
   "outputs": [],
   "source": []
  },
  {
   "cell_type": "code",
   "execution_count": null,
   "metadata": {},
   "outputs": [],
   "source": []
  },
  {
   "cell_type": "code",
   "execution_count": null,
   "metadata": {},
   "outputs": [],
   "source": []
  },
  {
   "cell_type": "code",
   "execution_count": null,
   "metadata": {},
   "outputs": [],
   "source": []
  },
  {
   "cell_type": "code",
   "execution_count": null,
   "metadata": {},
   "outputs": [],
   "source": []
  },
  {
   "cell_type": "code",
   "execution_count": null,
   "metadata": {},
   "outputs": [],
   "source": []
  },
  {
   "cell_type": "code",
   "execution_count": null,
   "metadata": {},
   "outputs": [],
   "source": []
  },
  {
   "cell_type": "code",
   "execution_count": null,
   "metadata": {},
   "outputs": [],
   "source": []
  },
  {
   "cell_type": "code",
   "execution_count": null,
   "metadata": {},
   "outputs": [],
   "source": []
  },
  {
   "cell_type": "code",
   "execution_count": null,
   "metadata": {},
   "outputs": [],
   "source": []
  },
  {
   "cell_type": "code",
   "execution_count": null,
   "metadata": {},
   "outputs": [],
   "source": []
  },
  {
   "cell_type": "code",
   "execution_count": null,
   "metadata": {},
   "outputs": [],
   "source": []
  },
  {
   "cell_type": "code",
   "execution_count": null,
   "metadata": {},
   "outputs": [],
   "source": []
  },
  {
   "cell_type": "code",
   "execution_count": null,
   "metadata": {},
   "outputs": [],
   "source": []
  },
  {
   "cell_type": "code",
   "execution_count": null,
   "metadata": {},
   "outputs": [],
   "source": []
  },
  {
   "cell_type": "code",
   "execution_count": null,
   "metadata": {},
   "outputs": [],
   "source": []
  }
 ],
 "metadata": {
  "kernelspec": {
   "display_name": "Python 3 (ipykernel)",
   "language": "python",
   "name": "python3"
  },
  "language_info": {
   "codemirror_mode": {
    "name": "ipython",
    "version": 3
   },
   "file_extension": ".py",
   "mimetype": "text/x-python",
   "name": "python",
   "nbconvert_exporter": "python",
   "pygments_lexer": "ipython3",
   "version": "3.9.7"
  }
 },
 "nbformat": 4,
 "nbformat_minor": 4
}
